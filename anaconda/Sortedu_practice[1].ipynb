{
 "cells": [
  {
   "cell_type": "code",
   "execution_count": null,
   "metadata": {},
   "outputs": [],
   "source": [
    "s = \"xca\"\n",
    "len(s)"
   ]
  },
  {
   "cell_type": "code",
   "execution_count": null,
   "metadata": {},
   "outputs": [],
   "source": [
    "s = \"abc\"\n",
    "    s[10]"
   ]
  },
  {
   "cell_type": "code",
   "execution_count": null,
   "metadata": {},
   "outputs": [],
   "source": [
    "x = \"massmassmass\"\n",
    "x[0:len(x):2]"
   ]
  },
  {
   "cell_type": "code",
   "execution_count": null,
   "metadata": {},
   "outputs": [],
   "source": [
    "a = \"cvf\"\n",
    "a[::]"
   ]
  },
  {
   "cell_type": "code",
   "execution_count": null,
   "metadata": {},
   "outputs": [],
   "source": [
    "x = \"acascasc\"\n",
    "x[::-1]"
   ]
  },
  {
   "cell_type": "code",
   "execution_count": null,
   "metadata": {},
   "outputs": [],
   "source": [
    "def ie(x):\n",
    "    #print(\"Outputs the double of number\")\n",
    "    x*2\n",
    "    \n",
    "ie(3)"
   ]
  },
  {
   "cell_type": "code",
   "execution_count": null,
   "metadata": {},
   "outputs": [],
   "source": [
    "def is_even(x):\n",
    "    i=2\n",
    "    while(i<x):\n",
    "        return x%i == 0\n",
    "    \n",
    "for x in range (i,40):\n",
    "    if is_even(x):\n",
    "        print(x,\"NON PRIME\")\n",
    "    else:\n",
    "        print(x,\"PRIME\")\n"
   ]
  },
  {
   "cell_type": "code",
   "execution_count": null,
   "metadata": {},
   "outputs": [],
   "source": [
    "2 + 3"
   ]
  },
  {
   "cell_type": "code",
   "execution_count": null,
   "metadata": {},
   "outputs": [],
   "source": [
    "4//3"
   ]
  },
  {
   "cell_type": "code",
   "execution_count": null,
   "metadata": {},
   "outputs": [],
   "source": [
    "4/3"
   ]
  },
  {
   "cell_type": "code",
   "execution_count": null,
   "metadata": {},
   "outputs": [],
   "source": [
    "l = [2,1,0,6,9,3]\n",
    "l.sort()"
   ]
  },
  {
   "cell_type": "code",
   "execution_count": null,
   "metadata": {},
   "outputs": [],
   "source": [
    "x = [\"a\",\"x\",\"b\",\"c\"]\n",
    "y = [1,2,3,4]\n",
    "a = x\n",
    "a.append(y)\n",
    "print(a)\n",
    "x.append(y)\n",
    "print(x)\n"
   ]
  },
  {
   "cell_type": "code",
   "execution_count": null,
   "metadata": {},
   "outputs": [],
   "source": [
    "x = [1,2,3,4]\n",
    "y=x[:]\n",
    "y.append(5)\n",
    "print(x)\n",
    "print(y)"
   ]
  },
  {
   "cell_type": "code",
   "execution_count": null,
   "metadata": {},
   "outputs": [],
   "source": [
    " def fact(n):\n",
    "        if (n==1):\n",
    "            return 1\n",
    "        else:\n",
    "            return n*fact(n-1)\n",
    "fact(5)"
   ]
  },
  {
   "cell_type": "code",
   "execution_count": null,
   "metadata": {},
   "outputs": [],
   "source": [
    "def fact(n):\n",
    "    fact = 1\n",
    "    for i in range(1,n+1):\n",
    "        fact = fact * i\n",
    "    return fact\n",
    "    \n",
    "fact(4)"
   ]
  },
  {
   "cell_type": "code",
   "execution_count": null,
   "metadata": {},
   "outputs": [],
   "source": [
    "1/4+3/4\n"
   ]
  },
  {
   "cell_type": "code",
   "execution_count": null,
   "metadata": {},
   "outputs": [],
   "source": [
    "def a[x]:\n",
    "    return true"
   ]
  },
  {
   "cell_type": "code",
   "execution_count": null,
   "metadata": {},
   "outputs": [],
   "source": [
    "for x in range(5):\n",
    "    for y in range(2):\n",
    "        if (x,y) is [(0,0),(0,1),(4,0),(4,1)]:\n",
    "            print(\" \",\" \",\"*\")\n",
    "        elif (x,y) is [(1,0),(3,0)]:\n",
    "            print(\" \",\"*\",\"*\",\"*\")\n",
    "        else:\n",
    "            n=(\"*\")*5\n",
    "            print(n)\n",
    "    \n",
    "            \n",
    "         \n",
    "        \n",
    "    "
   ]
  },
  {
   "cell_type": "code",
   "execution_count": null,
   "metadata": {},
   "outputs": [],
   "source": [
    "2+3"
   ]
  },
  {
   "cell_type": "code",
   "execution_count": null,
   "metadata": {},
   "outputs": [],
   "source": [
    "for x in range(5):\n",
    "    if x in (0,4) :\n",
    "        print(\"\",\"\",\"*\")\n",
    "    elif x in (1,3):\n",
    "        print(\"\",\"*\"*3)\n",
    "    else:\n",
    "        print(\"*\"*5)"
   ]
  },
  {
   "cell_type": "code",
   "execution_count": null,
   "metadata": {},
   "outputs": [],
   "source": [
    "for x in range(5):\n",
    "    if x in (0,4) :\n",
    "        print(\"\",\" \",\"1\")\n",
    "    elif x in (1,3):\n",
    "        print(\"\",\"1\",\"0\",\"1\")\n",
    "    else:\n",
    "        print(\"1\",\"0\",\"1\",\"0\",\"1\")"
   ]
  },
  {
   "cell_type": "code",
   "execution_count": null,
   "metadata": {},
   "outputs": [],
   "source": [
    "def f_e(n,d):\n",
    "    if n in d:\n",
    "        return d[n]\n",
    "    else:\n",
    "        ans = f_e(n-1,d) + f_e(n-2,d)\n",
    "        d[n] = ans\n",
    "        return d[n]\n",
    "d = {1:1,2:2}\n",
    "print(f_e(34,d))\n"
   ]
  },
  {
   "cell_type": "code",
   "execution_count": null,
   "metadata": {},
   "outputs": [],
   "source": [
    "class Employee:\n",
    "    raise_amount = 1.04\n",
    "    num = 0\n",
    "    def __init__(self,first,last,pay):\n",
    "        self.first = first\n",
    "        self.last = last\n",
    "        self.pay = pay\n",
    "        self.email = first + last +\"@company.com\"\n",
    "        Employee.num += 1\n",
    "        \n",
    "    def fullname(self):\n",
    "        return \"{} {}\".format(self.first,self.last)\n",
    "    \n",
    "    def pay_raise(self):\n",
    "        self.pay = int(self.pay * self.ra)\n",
    "        \n",
    "@classmethod\n",
    "def set_raise_amount(cls,amount):\n",
    "    cls.raise_amount = amount\n",
    "\n",
    "        \n",
    "print(Employee.num)\n",
    "emp1 = Employee(\"nav\",\"xy\",1000)\n",
    "emp2 = Employee(\"lmao\",\"xd\",6000)\n",
    "\n",
    "#print(emp1)\n",
    "#print(emp2)\n",
    "\n",
    "\"\"\"\n",
    "print(emp1.email)\n",
    "print(emp2.email)\n",
    "\n",
    "print(emp1.fullname())\n",
    "print(emp2.fullname())\n",
    "\n",
    "print(Employee.fullname(emp1))\n",
    "\n",
    "print(emp1.pay)\n",
    "emp1.pay_raise()\n",
    "print(emp1.pay)\n",
    "\n",
    "\n",
    "print(Employee.__dict__)\n",
    "\"\"\"\n",
    "Employee.set_raise_amount(1.05)\n",
    "        \n",
    "print(Employee.raise_amount)\n",
    "print(emp1.raise_amount)\n",
    "print(emp2.raise_amount)\n",
    "\n",
    "emp_str1 = \"John-lee-2000\"\n",
    "emp_str1 = \"jose-ja-5000\"\n",
    "emp_str1 = \"teresa-ilo-4000\"\n",
    "\n",
    "first , last , pay = emp_str1.split(\"-\")\n",
    "\n",
    "new_emp1 = Employee(first,last,pay)\n",
    "\n",
    "print(new_emp1.email)\n",
    "\n",
    "\n",
    "\n"
   ]
  },
  {
   "cell_type": "code",
   "execution_count": null,
   "metadata": {},
   "outputs": [],
   "source": [
    "class Employee:\n",
    "    def __init__(self,first,last,pay):\n",
    "        self.first = first\n",
    "        self.last = last\n",
    "        self.pay = pay\n",
    "        self.email = first + last +\"@company.com\"\n",
    "    def fullname(self):\n",
    "        return \"{} {}\".format(self.first,self.last)\n",
    "\n",
    "\tdef __repr__(self):\n",
    "\t\treturn \"Employee('{}','{}',{})\".format(self.first,self.last,self.pay)\n",
    "\n",
    "emp1 = Employee(\"nav\",\"xy\",1000)\n",
    "emp2 = Employee(\"lmao\",\"xd\",6000)\n",
    "\n",
    "#print(emp1)\n",
    "#print(emp2)\n",
    "\n",
    "print(emp1)"
   ]
  },
  {
   "cell_type": "code",
   "execution_count": null,
   "metadata": {},
   "outputs": [],
   "source": [
    "class X:\n",
    "    def __init__(self,a,b,c):\n",
    "        self.a = a\n",
    "        self.b = b\n",
    "        self.c = c\n",
    "    \n",
    "    def __repr__(self):\n",
    "        return \"X({},{},{})\".format(self.a,self.b,self.c)\n",
    "    def __str__(self):\n",
    "        return '{} - {}'.format(self.a,self.c)\n",
    "    \n",
    "x1 = X(10,20,30)\n",
    "x2 = X(40,50,60)\n",
    "\n",
    "print(x1)\n",
    "\n",
    "print(repr(x1))\n",
    "print(str(x2))"
   ]
  },
  {
   "cell_type": "code",
   "execution_count": null,
   "metadata": {},
   "outputs": [],
   "source": [
    "class Area:\n",
    "    def __init__(self,length,breadth):\n",
    "        self.length = length\n",
    "        self.breadth = breadth\n",
    "    def calc_area(self,length,breadth):\n",
    "        area = length*breadth\n",
    "        print(\"Area is\",area)\n",
    "calc_area(2,3)\n"
   ]
  },
  {
   "cell_type": "code",
   "execution_count": 7,
   "metadata": {},
   "outputs": [
    {
     "name": "stdout",
     "output_type": "stream",
     "text": [
      "Enter the length of Rectangle: 1\n",
      "Enter the breadth of Rectangle: 2\n",
      "Area of Rectangle is 2\n",
      "Enter the length of Rectangle (Volume): 1\n",
      "Enter the breadth of Rectangle (Volume): 2\n",
      "Enter the height of Rectangle (Volume): 3\n",
      "Volume of Rectangle is 6\n"
     ]
    }
   ],
   "source": [
    "class Area:\n",
    "    def __init__(self,length,breadth):\n",
    "        self.length = length\n",
    "        self.breadth = breadth\n",
    "\n",
    "    def calc_area(self):\n",
    "        return  int(self.length*self.breadth)\n",
    "    \n",
    "\n",
    "a = int(input(\"Enter the length of Rectangle: \"))\n",
    "b = int(input(\"Enter the breadth of Rectangle: \"))\n",
    "\n",
    "obj = Area(a,b)\n",
    "print(\"Area of Rectangle is\",obj.calc_area())\n",
    "\n",
    "class Volume(Area):\n",
    "    def __init__(self,length,breadth,height):\n",
    "        super().__init__(length,breadth)\n",
    "        self.height = height\n",
    "\n",
    "    def calc_vol(self):\n",
    "            return int(self.calc_area()*self.height)\n",
    "\n",
    "a = int(input(\"Enter the length of Rectangle (Volume): \"))\n",
    "b = int(input(\"Enter the breadth of Rectangle (Volume): \"))\n",
    "c = int(input(\"Enter the height of Rectangle (Volume): \"))\n",
    "\n",
    "obj = Volume(a,b,c)\n",
    "print(\"Volume of Rectangle is\", obj.calc_vol())"
   ]
  },
  {
   "cell_type": "code",
   "execution_count": 4,
   "metadata": {},
   "outputs": [
    {
     "name": "stdout",
     "output_type": "stream",
     "text": [
      "Enter the length of Rectangle: 1\n",
      "Enter the breadth of Rectangle: 2\n",
      "Area of Rectangle is 2\n",
      "Enter the length of Rectangle (Volume): 1\n",
      "Enter the breadth of Rectangle (Volume): 2\n",
      "Enter the height of Rectangle (Volume): 3\n"
     ]
    },
    {
     "ename": "TypeError",
     "evalue": "unsupported operand type(s) for *: 'function' and 'int'",
     "output_type": "error",
     "traceback": [
      "\u001b[1;31m---------------------------------------------------------------------------\u001b[0m",
      "\u001b[1;31mTypeError\u001b[0m                                 Traceback (most recent call last)",
      "\u001b[1;32m<ipython-input-4-b62b4d03a769>\u001b[0m in \u001b[0;36m<module>\u001b[1;34m()\u001b[0m\n\u001b[0;32m     27\u001b[0m \u001b[1;33m\u001b[0m\u001b[0m\n\u001b[0;32m     28\u001b[0m \u001b[0mobj\u001b[0m \u001b[1;33m=\u001b[0m \u001b[0mVolume\u001b[0m\u001b[1;33m(\u001b[0m\u001b[0ma\u001b[0m\u001b[1;33m,\u001b[0m\u001b[0mb\u001b[0m\u001b[1;33m,\u001b[0m\u001b[0mc\u001b[0m\u001b[1;33m)\u001b[0m\u001b[1;33m\u001b[0m\u001b[0m\n\u001b[1;32m---> 29\u001b[1;33m \u001b[0mprint\u001b[0m\u001b[1;33m(\u001b[0m\u001b[1;34m\"Volume of Rectangle is\"\u001b[0m\u001b[1;33m,\u001b[0m \u001b[0mobj\u001b[0m\u001b[1;33m.\u001b[0m\u001b[0mcalc_vol\u001b[0m\u001b[1;33m(\u001b[0m\u001b[1;33m)\u001b[0m\u001b[1;33m)\u001b[0m\u001b[1;33m\u001b[0m\u001b[0m\n\u001b[0m",
      "\u001b[1;32m<ipython-input-4-b62b4d03a769>\u001b[0m in \u001b[0;36mcalc_vol\u001b[1;34m(self)\u001b[0m\n\u001b[0;32m     20\u001b[0m \u001b[1;33m\u001b[0m\u001b[0m\n\u001b[0;32m     21\u001b[0m     \u001b[1;32mdef\u001b[0m \u001b[0mcalc_vol\u001b[0m\u001b[1;33m(\u001b[0m\u001b[0mself\u001b[0m\u001b[1;33m)\u001b[0m\u001b[1;33m:\u001b[0m\u001b[1;33m\u001b[0m\u001b[0m\n\u001b[1;32m---> 22\u001b[1;33m             \u001b[1;32mreturn\u001b[0m \u001b[0mArea\u001b[0m\u001b[1;33m.\u001b[0m\u001b[0mcalc_area\u001b[0m\u001b[1;33m*\u001b[0m\u001b[0mself\u001b[0m\u001b[1;33m.\u001b[0m\u001b[0mheight\u001b[0m\u001b[1;33m\u001b[0m\u001b[0m\n\u001b[0m\u001b[0;32m     23\u001b[0m \u001b[1;33m\u001b[0m\u001b[0m\n\u001b[0;32m     24\u001b[0m \u001b[0ma\u001b[0m \u001b[1;33m=\u001b[0m \u001b[0mint\u001b[0m\u001b[1;33m(\u001b[0m\u001b[0minput\u001b[0m\u001b[1;33m(\u001b[0m\u001b[1;34m\"Enter the length of Rectangle (Volume): \"\u001b[0m\u001b[1;33m)\u001b[0m\u001b[1;33m)\u001b[0m\u001b[1;33m\u001b[0m\u001b[0m\n",
      "\u001b[1;31mTypeError\u001b[0m: unsupported operand type(s) for *: 'function' and 'int'"
     ]
    }
   ],
   "source": []
  },
  {
   "cell_type": "code",
   "execution_count": 11,
   "metadata": {},
   "outputs": [
    {
     "name": "stdout",
     "output_type": "stream",
     "text": [
      "5\n",
      "3\n",
      "ab\n"
     ]
    }
   ],
   "source": [
    "print(2+3)\n",
    "print(int.__add__(1,2))\n",
    "print(str.__add__('a','b'))\n"
   ]
  },
  {
   "cell_type": "code",
   "execution_count": null,
   "metadata": {},
   "outputs": [],
   "source": []
  },
  {
   "cell_type": "code",
   "execution_count": null,
   "metadata": {},
   "outputs": [],
   "source": []
  },
  {
   "cell_type": "code",
   "execution_count": null,
   "metadata": {},
   "outputs": [],
   "source": []
  },
  {
   "cell_type": "code",
   "execution_count": null,
   "metadata": {},
   "outputs": [],
   "source": []
  },
  {
   "cell_type": "code",
   "execution_count": null,
   "metadata": {},
   "outputs": [],
   "source": []
  },
  {
   "cell_type": "code",
   "execution_count": null,
   "metadata": {},
   "outputs": [],
   "source": []
  },
  {
   "cell_type": "code",
   "execution_count": null,
   "metadata": {},
   "outputs": [],
   "source": []
  },
  {
   "cell_type": "code",
   "execution_count": null,
   "metadata": {},
   "outputs": [],
   "source": []
  },
  {
   "cell_type": "code",
   "execution_count": null,
   "metadata": {},
   "outputs": [],
   "source": []
  },
  {
   "cell_type": "code",
   "execution_count": null,
   "metadata": {},
   "outputs": [],
   "source": []
  },
  {
   "cell_type": "code",
   "execution_count": null,
   "metadata": {},
   "outputs": [],
   "source": []
  }
 ],
 "metadata": {
  "kernelspec": {
   "display_name": "Python 3",
   "language": "python",
   "name": "python3"
  },
  "language_info": {
   "codemirror_mode": {
    "name": "ipython",
    "version": 3
   },
   "file_extension": ".py",
   "mimetype": "text/x-python",
   "name": "python",
   "nbconvert_exporter": "python",
   "pygments_lexer": "ipython3",
   "version": "3.6.5"
  }
 },
 "nbformat": 4,
 "nbformat_minor": 2
}
